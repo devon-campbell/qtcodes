{
 "cells": [
  {
   "cell_type": "code",
   "execution_count": 1,
   "id": "35ea72df-c45e-4e7a-a95b-0180712cd964",
   "metadata": {
    "tags": []
   },
   "outputs": [],
   "source": [
    "from qiskit_ibm_runtime import QiskitRuntimeService, SamplerV2, Session, SamplerOptions\n",
    "global api_token, service, backends\n",
    "api_token = 'be5e713d2a8fa9228e96fbb61a84af3337e4730a2d7a174eaeeb8c625f964b516a29f367490a0fa50ec5de4dff1be879e018c6f87e906a15b379519049c9868a'"
   ]
  },
  {
   "cell_type": "code",
   "execution_count": 2,
   "id": "60b4f6c7-1d30-436f-b0ef-0f7c71414620",
   "metadata": {
    "tags": []
   },
   "outputs": [
    {
     "name": "stdout",
     "output_type": "stream",
     "text": [
      "DONE ['qubit1Z_d5_b_ibm_kyiv']\n",
      "DONE ['qubit1Z_d5_b_ibm_brisbane']\n",
      "DONE ['qubit1Z_d5_b_ibm_sherbrooke']\n",
      "DONE ['qubit1Z_d3_b_ibm_sherbrooke']\n",
      "DONE ['qubit1Z_d3_b_ibm_brisbane']\n",
      "DONE ['qubit1Z_d3_b_ibm_kyiv']\n",
      "ERROR ['qubit1Z_d5_b_ibm_sherbrooke']\n",
      "DONE ['qubit1Z_d5_b_ibm_kyiv']\n",
      "DONE ['qubit1Z_d5_b_ibm_brisbane']\n",
      "DONE ['qubit1Z_d5_b_ibm_brisbane']\n"
     ]
    }
   ],
   "source": [
    "for job in QiskitRuntimeService(channel=\"ibm_quantum\", token=api_token).jobs():\n",
    "    print(job.status().name, job.tags)"
   ]
  },
  {
   "cell_type": "code",
   "execution_count": null,
   "id": "c5fc51cc-0fe5-48b8-8e72-00c5f93024cd",
   "metadata": {},
   "outputs": [],
   "source": []
  }
 ],
 "metadata": {
  "kernelspec": {
   "display_name": "Python 3 (ipykernel)",
   "language": "python",
   "name": "python3"
  },
  "language_info": {
   "codemirror_mode": {
    "name": "ipython",
    "version": 3
   },
   "file_extension": ".py",
   "mimetype": "text/x-python",
   "name": "python",
   "nbconvert_exporter": "python",
   "pygments_lexer": "ipython3",
   "version": "3.11.4"
  }
 },
 "nbformat": 4,
 "nbformat_minor": 5
}
