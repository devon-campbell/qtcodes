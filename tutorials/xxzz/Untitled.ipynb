{
 "cells": [
  {
   "cell_type": "code",
   "execution_count": 1,
   "id": "29e39f27-4f85-4b74-ae07-39a51dea59c7",
   "metadata": {
    "tags": []
   },
   "outputs": [],
   "source": [
    "import matplotlib.pyplot as plt\n",
    "import json\n",
    "from qiskit import QuantumCircuit, transpile, QuantumRegister, ClassicalRegister, assemble\n",
    "from qiskit_aer import Aer\n",
    "from qiskit_ibm_runtime import QiskitRuntimeService, SamplerV2, Session, SamplerOptions\n",
    "from qtcodes import XXZZQubit\n",
    "import time\n",
    "import numpy as np\n",
    "global api_token, service, backends\n",
    "api_token = 'be5e713d2a8fa9228e96fbb61a84af3337e4730a2d7a174eaeeb8c625f964b516a29f367490a0fa50ec5de4dff1be879e018c6f87e906a15b379519049c9868a'"
   ]
  },
  {
   "cell_type": "code",
   "execution_count": 2,
   "id": "a96adac7-19e6-4b56-a45f-3e02241c63f6",
   "metadata": {
    "tags": []
   },
   "outputs": [],
   "source": [
    "service = QiskitRuntimeService(channel=\"ibm_quantum\", token=api_token)"
   ]
  },
  {
   "cell_type": "code",
   "execution_count": 11,
   "id": "9dd923a4-2963-4678-a252-adbd8966e397",
   "metadata": {
    "tags": []
   },
   "outputs": [
    {
     "name": "stdout",
     "output_type": "stream",
     "text": [
      "QUEUED\n",
      "DONE\n",
      "CANCELLED\n",
      "DONE\n",
      "DONE\n",
      "DONE\n",
      "DONE\n",
      "DONE\n",
      "ERROR\n",
      "ERROR\n"
     ]
    }
   ],
   "source": [
    "for job in service.jobs():\n",
    "    print(job.status().name)"
   ]
  },
  {
   "cell_type": "code",
   "execution_count": 10,
   "id": "02820678-6083-49ca-8040-28e2eefc7f30",
   "metadata": {},
   "outputs": [
    {
     "data": {
      "text/plain": [
       "[<RuntimeJob('cv1wpkt184p00089k0d0', 'circuit-runner')>,\n",
       " <RuntimeJob('cv1wnqehtzyg008q8dw0', 'circuit-runner')>,\n",
       " <RuntimeJob('cv1wnget1eag0085hg1g', 'circuit-runner')>,\n",
       " <RuntimeJob('cv1rpf1cn2b00081hsz0', 'circuit-runner')>,\n",
       " <RuntimeJob('cv1cvpecn2b00081hbkg', 'sampler')>,\n",
       " <RuntimeJob('cv1cq1wqtch00089319g', 'sampler')>,\n",
       " <RuntimeJob('cv1ckbxcn2b00081hbc0', 'sampler')>,\n",
       " <RuntimeJob('cv1bx1mcn2b00081hazg', 'sampler')>,\n",
       " <RuntimeJob('cv1bswfqtch0008930s0', 'sampler')>,\n",
       " <RuntimeJob('cv1bq14cn2b00081havg', 'sampler')>]"
      ]
     },
     "execution_count": 10,
     "metadata": {},
     "output_type": "execute_result"
    }
   ],
   "source": [
    "service.jobs()"
   ]
  },
  {
   "cell_type": "code",
   "execution_count": null,
   "id": "b19e254d-b744-41e0-850b-baed8825f8fa",
   "metadata": {},
   "outputs": [],
   "source": []
  }
 ],
 "metadata": {
  "kernelspec": {
   "display_name": "Python 3 (ipykernel)",
   "language": "python",
   "name": "python3"
  },
  "language_info": {
   "codemirror_mode": {
    "name": "ipython",
    "version": 3
   },
   "file_extension": ".py",
   "mimetype": "text/x-python",
   "name": "python",
   "nbconvert_exporter": "python",
   "pygments_lexer": "ipython3",
   "version": "3.11.4"
  }
 },
 "nbformat": 4,
 "nbformat_minor": 5
}
